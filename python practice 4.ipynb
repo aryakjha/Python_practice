{
 "cells": [
  {
   "cell_type": "code",
   "execution_count": null,
   "metadata": {},
   "outputs": [],
   "source": [
    "#for loop in python"
   ]
  },
  {
   "cell_type": "code",
   "execution_count": 1,
   "metadata": {},
   "outputs": [
    {
     "name": "stdout",
     "output_type": "stream",
     "text": [
      "p\n",
      "y\n",
      "t\n",
      "h\n",
      "o\n",
      "n\n"
     ]
    }
   ],
   "source": [
    "for i in \"python\":\n",
    "    print(i)\n",
    "    "
   ]
  },
  {
   "cell_type": "code",
   "execution_count": 4,
   "metadata": {},
   "outputs": [
    {
     "name": "stdout",
     "output_type": "stream",
     "text": [
      "abc\n",
      "xyz\n",
      "acd\n",
      "aed\n",
      "strv\n"
     ]
    }
   ],
   "source": [
    "a = [\"abc\", \"xyz\", \"acd\",\"aed\",\"strv\"]      #list of strings\n",
    "for i in a:\n",
    "    print(i)"
   ]
  },
  {
   "cell_type": "code",
   "execution_count": 5,
   "metadata": {},
   "outputs": [
    {
     "name": "stdout",
     "output_type": "stream",
     "text": [
      "1\n",
      "2\n",
      "3\n",
      "4\n",
      "5\n",
      "6\n",
      "7\n",
      "8\n",
      "9\n",
      "0\n"
     ]
    }
   ],
   "source": [
    "a = [1,2,3,4,5,6,7,8,9,0]\n",
    "for i in a:\n",
    "    print(i)"
   ]
  },
  {
   "cell_type": "code",
   "execution_count": 7,
   "metadata": {},
   "outputs": [
    {
     "name": "stdout",
     "output_type": "stream",
     "text": [
      "1\n",
      "2\n",
      "3\n",
      "4\n",
      "5\n",
      "6\n",
      "7\n",
      "8\n",
      "9\n",
      "10\n",
      "11\n",
      "12\n",
      "13\n",
      "14\n",
      "15\n",
      "16\n",
      "17\n",
      "18\n",
      "19\n",
      "20\n",
      "21\n",
      "22\n",
      "23\n",
      "24\n",
      "25\n",
      "26\n",
      "27\n",
      "28\n",
      "29\n",
      "30\n",
      "31\n",
      "32\n",
      "33\n",
      "34\n",
      "35\n",
      "36\n",
      "37\n",
      "38\n",
      "39\n",
      "40\n",
      "41\n",
      "42\n",
      "43\n",
      "44\n",
      "45\n",
      "46\n",
      "47\n",
      "48\n",
      "49\n",
      "50\n",
      "51\n",
      "52\n",
      "53\n",
      "54\n",
      "55\n",
      "56\n",
      "57\n",
      "58\n",
      "59\n",
      "60\n",
      "61\n",
      "62\n",
      "63\n",
      "64\n",
      "65\n",
      "66\n",
      "67\n",
      "68\n",
      "69\n",
      "70\n",
      "71\n",
      "72\n",
      "73\n",
      "74\n",
      "75\n",
      "76\n",
      "77\n",
      "78\n",
      "79\n",
      "80\n",
      "81\n",
      "82\n",
      "83\n",
      "84\n",
      "85\n",
      "86\n",
      "87\n",
      "88\n",
      "89\n",
      "90\n",
      "91\n",
      "92\n",
      "93\n",
      "94\n",
      "95\n",
      "96\n",
      "97\n",
      "98\n",
      "99\n",
      "100\n"
     ]
    }
   ],
   "source": [
    "for i in range(1,101):\n",
    "    print(i)"
   ]
  },
  {
   "cell_type": "code",
   "execution_count": 8,
   "metadata": {},
   "outputs": [
    {
     "name": "stdout",
     "output_type": "stream",
     "text": [
      "1\n",
      "3\n",
      "5\n",
      "7\n",
      "9\n",
      "11\n",
      "13\n",
      "15\n",
      "17\n",
      "19\n",
      "21\n",
      "23\n",
      "25\n",
      "27\n",
      "29\n",
      "31\n",
      "33\n",
      "35\n",
      "37\n",
      "39\n",
      "41\n",
      "43\n",
      "45\n",
      "47\n",
      "49\n",
      "51\n",
      "53\n",
      "55\n",
      "57\n",
      "59\n",
      "61\n",
      "63\n",
      "65\n",
      "67\n",
      "69\n",
      "71\n",
      "73\n",
      "75\n",
      "77\n",
      "79\n",
      "81\n",
      "83\n",
      "85\n",
      "87\n",
      "89\n",
      "91\n",
      "93\n",
      "95\n",
      "97\n",
      "99\n"
     ]
    }
   ],
   "source": [
    "for i in range(1,101,2):\n",
    "    print(i)"
   ]
  },
  {
   "cell_type": "code",
   "execution_count": 9,
   "metadata": {},
   "outputs": [
    {
     "ename": "TypeError",
     "evalue": "range expected at most 3 arguments, got 4",
     "output_type": "error",
     "traceback": [
      "\u001b[1;31m---------------------------------------------------------------------------\u001b[0m",
      "\u001b[1;31mTypeError\u001b[0m                                 Traceback (most recent call last)",
      "\u001b[1;32m<ipython-input-9-3329e8bfd2bb>\u001b[0m in \u001b[0;36m<module>\u001b[1;34m\u001b[0m\n\u001b[1;32m----> 1\u001b[1;33m \u001b[1;32mfor\u001b[0m \u001b[0mi\u001b[0m \u001b[1;32min\u001b[0m \u001b[0mrange\u001b[0m\u001b[1;33m(\u001b[0m\u001b[1;36m1\u001b[0m\u001b[1;33m,\u001b[0m\u001b[1;36m101\u001b[0m\u001b[1;33m,\u001b[0m\u001b[1;36m2\u001b[0m\u001b[1;33m,\u001b[0m\u001b[1;36m3\u001b[0m\u001b[1;33m)\u001b[0m\u001b[1;33m:\u001b[0m\u001b[1;33m\u001b[0m\u001b[1;33m\u001b[0m\u001b[0m\n\u001b[0m\u001b[0;32m      2\u001b[0m     \u001b[0mprint\u001b[0m\u001b[1;33m(\u001b[0m\u001b[0mi\u001b[0m\u001b[1;33m)\u001b[0m\u001b[1;33m\u001b[0m\u001b[1;33m\u001b[0m\u001b[0m\n",
      "\u001b[1;31mTypeError\u001b[0m: range expected at most 3 arguments, got 4"
     ]
    }
   ],
   "source": [
    "for i in range(1,10):\n",
    "    print(i)"
   ]
  },
  {
   "cell_type": "code",
   "execution_count": 2,
   "metadata": {},
   "outputs": [
    {
     "name": "stdout",
     "output_type": "stream",
     "text": [
      "enter the number of elements in the list 3\n",
      "1\n",
      "3\n",
      "2\n",
      "[1, 3, 2]\n",
      "the max element is :3\n"
     ]
    }
   ],
   "source": [
    "#program to find the largest number in the list\n",
    "lst = []\n",
    "n = int(input(\"enter the number of elements in the list \"))\n",
    "for i in range(0,n):\n",
    "    element = int(input())\n",
    "    lst.append(element)\n",
    "print(lst)\n",
    "max = lst[0]\n",
    "for j in lst:\n",
    "    if j>max:\n",
    "        max = j\n",
    "print(f'the max element is :{max}')\n"
   ]
  },
  {
   "cell_type": "code",
   "execution_count": 3,
   "metadata": {},
   "outputs": [
    {
     "name": "stdout",
     "output_type": "stream",
     "text": [
      "[[1, 2, 3], [4, 5, 6], [7, 8, 9]]\n"
     ]
    }
   ],
   "source": [
    "#two dimensional list\n",
    "matrix = [[1,2,3],[4,5,6],[7,8,9]]\n",
    "print(matrix)"
   ]
  },
  {
   "cell_type": "code",
   "execution_count": 4,
   "metadata": {},
   "outputs": [
    {
     "name": "stdout",
     "output_type": "stream",
     "text": [
      "2\n"
     ]
    }
   ],
   "source": [
    "matrix = [[1,2,3],[4,5,6],[7,8,9]]\n",
    "print(matrix[0][1])"
   ]
  },
  {
   "cell_type": "code",
   "execution_count": 5,
   "metadata": {},
   "outputs": [
    {
     "name": "stdout",
     "output_type": "stream",
     "text": [
      "7\n"
     ]
    }
   ],
   "source": [
    "matrix = [[1,2,3],[4,5,6],[7,8,9]]\n",
    "print(matrix[2][0])"
   ]
  },
  {
   "cell_type": "code",
   "execution_count": 6,
   "metadata": {},
   "outputs": [
    {
     "name": "stdout",
     "output_type": "stream",
     "text": [
      "[7, 8, 9]\n"
     ]
    }
   ],
   "source": [
    "matrix = [[1,2,3],[4,5,6],[7,8,9]]\n",
    "print(matrix[2])"
   ]
  },
  {
   "cell_type": "code",
   "execution_count": 9,
   "metadata": {},
   "outputs": [
    {
     "name": "stdout",
     "output_type": "stream",
     "text": [
      "[[1, 2, 3], [4, 5, 6], [7, 8, 9]]\n",
      "1\n",
      "2\n",
      "3\n",
      "4\n",
      "5\n",
      "6\n",
      "7\n",
      "8\n",
      "9\n"
     ]
    }
   ],
   "source": [
    "matrix = [[1,2,3],[4,5,6],[7,8,9]]\n",
    "print(matrix)\n",
    "for i in matrix :\n",
    "    for j in i:\n",
    "        print(j)\n",
    "        "
   ]
  },
  {
   "cell_type": "code",
   "execution_count": 10,
   "metadata": {},
   "outputs": [
    {
     "name": "stdout",
     "output_type": "stream",
     "text": [
      "[1, 3, 4, 2, 7, 3, 7, 9, 20]\n"
     ]
    }
   ],
   "source": [
    "#methods in list\n",
    "#1. append\n",
    "lst = [1,3,4,2,7,3,7,9]\n",
    "lst.append(20)\n",
    "print(lst)"
   ]
  },
  {
   "cell_type": "code",
   "execution_count": 11,
   "metadata": {},
   "outputs": [
    {
     "name": "stdout",
     "output_type": "stream",
     "text": [
      "[1, 3, 4, 20, 2, 7, 3, 7, 9]\n"
     ]
    }
   ],
   "source": [
    "#2. insert\n",
    "lst = [1,3,4,2,7,3,7,9]\n",
    "lst.insert(3,20)\n",
    "print(lst)\n"
   ]
  },
  {
   "cell_type": "code",
   "execution_count": 13,
   "metadata": {},
   "outputs": [
    {
     "name": "stdout",
     "output_type": "stream",
     "text": [
      "enter the number of elements 3\n",
      "1\n",
      "2\n",
      "3\n",
      "[1, 2, 3]\n",
      "enter the position of the element to be removed 1\n",
      "[2, 3]\n"
     ]
    }
   ],
   "source": [
    "#3. Remove\n",
    "lst = []\n",
    "n = int(input(\"enter the number of elements \"))\n",
    "for i in range(0,n):\n",
    "    element = int(input())\n",
    "    lst.append(element)\n",
    "print(lst)\n",
    "j = int(input(\"enter the position of the element to be removed \"))\n",
    "lst.remove(j)\n",
    "print(lst)"
   ]
  },
  {
   "cell_type": "code",
   "execution_count": 14,
   "metadata": {},
   "outputs": [
    {
     "name": "stdout",
     "output_type": "stream",
     "text": [
      "enter the number of elements 2\n",
      "1\n",
      "2\n",
      "[1, 2]\n",
      "[]\n"
     ]
    }
   ],
   "source": [
    "#4. Clear (clear the list )\n",
    "\n",
    "lst = []\n",
    "n = int(input(\"enter the number of elements \"))\n",
    "for i in range(0,n):\n",
    "    element = int(input())\n",
    "    lst.append(element)\n",
    "print(lst)\n",
    "lst.clear()\n",
    "print(lst)"
   ]
  },
  {
   "cell_type": "code",
   "execution_count": 15,
   "metadata": {},
   "outputs": [
    {
     "name": "stdout",
     "output_type": "stream",
     "text": [
      "enter the number of elements 2\n",
      "1\n",
      "2\n",
      "[1, 2]\n",
      "[1]\n"
     ]
    }
   ],
   "source": [
    "#5. Pop\n",
    "\n",
    "lst = []\n",
    "n = int(input(\"enter the number of elements \"))\n",
    "for i in range(0,n):\n",
    "    element = int(input())\n",
    "    lst.append(element)\n",
    "print(lst)\n",
    "\n",
    "lst.pop()\n",
    "print(lst)\n"
   ]
  },
  {
   "cell_type": "code",
   "execution_count": 16,
   "metadata": {},
   "outputs": [
    {
     "name": "stdout",
     "output_type": "stream",
     "text": [
      "1\n"
     ]
    }
   ],
   "source": [
    "#6. index\n",
    "lst = [1,2,3]\n",
    "print(lst.index(2))\n"
   ]
  },
  {
   "cell_type": "code",
   "execution_count": 17,
   "metadata": {},
   "outputs": [
    {
     "name": "stdout",
     "output_type": "stream",
     "text": [
      "enter the number of elements 3\n",
      "1\n",
      "1\n",
      "2\n",
      "[1, 1, 2]\n",
      "enter the element to be counted 1\n",
      "2\n"
     ]
    }
   ],
   "source": [
    "#7. Count\n",
    "lst = []\n",
    "n = int(input(\"enter the number of elements \"))\n",
    "for i in range(0,n):\n",
    "    element = int(input())\n",
    "    lst.append(element)\n",
    "print(lst)\n",
    "\n",
    "j = int(input(\"enter the element to be counted \"))\n",
    "print(lst.count(j))\n",
    "\n"
   ]
  },
  {
   "cell_type": "code",
   "execution_count": 20,
   "metadata": {},
   "outputs": [
    {
     "name": "stdout",
     "output_type": "stream",
     "text": [
      "enter the number of elements 3\n",
      "4\n",
      "2\n",
      "1\n",
      "[4, 2, 1]\n",
      "[1, 2, 4]\n",
      "[4, 2, 1]\n"
     ]
    }
   ],
   "source": [
    "#8. Sort,Reverse\n",
    "\n",
    "lst = []\n",
    "n = int(input(\"enter the number of elements \"))\n",
    "for i in range(0,n):\n",
    "    element = int(input())\n",
    "    lst.append(element)\n",
    "print(lst)\n",
    "\n",
    "lst.sort()\n",
    "print(lst)\n",
    "lst.reverse()\n",
    "print(lst)\n"
   ]
  },
  {
   "cell_type": "code",
   "execution_count": 23,
   "metadata": {},
   "outputs": [
    {
     "name": "stdout",
     "output_type": "stream",
     "text": [
      "enter the number of elements 1\n",
      "2\n",
      "[2]\n",
      "[2, 10]\n"
     ]
    }
   ],
   "source": [
    "#9. Copy\n",
    "\n",
    "lst = []\n",
    "n = int(input(\"enter the number of elements \"))\n",
    "for i in range(0,n):\n",
    "    element = int(input())\n",
    "    lst.append(element)\n",
    "print(lst)\n",
    "\n",
    "lst2 = lst.copy()\n",
    "print(lst2)"
   ]
  },
  {
   "cell_type": "code",
   "execution_count": 28,
   "metadata": {},
   "outputs": [
    {
     "name": "stdout",
     "output_type": "stream",
     "text": [
      "enter the number of elements 5\n",
      "1\n",
      "2\n",
      "3\n",
      "3\n",
      "3\n",
      "[1, 2, 3, 3, 3]\n",
      "[1, 2, 3]\n"
     ]
    }
   ],
   "source": [
    "# program to remove the duplicates in a list\n",
    "lst = []\n",
    "n = int(input(\"enter the number of elements \"))\n",
    "for i in range(0,n):\n",
    "    element = int(input())\n",
    "    lst.append(element)\n",
    "print(lst)\n",
    "\n",
    "lst.sort()\n",
    "lst2 = []\n",
    "for j in lst:\n",
    "    if j not in lst2:\n",
    "        lst2.append(j)\n",
    "        \n",
    "print(lst2)\n",
    "    "
   ]
  },
  {
   "cell_type": "code",
   "execution_count": 2,
   "metadata": {},
   "outputs": [
    {
     "name": "stdout",
     "output_type": "stream",
     "text": [
      "(1, 2, 3)\n"
     ]
    }
   ],
   "source": [
    "#tupples- istead of square brackets just put parenthesis\n",
    "numbers = (1,2,3)\n",
    "print(numbers)\n"
   ]
  },
  {
   "cell_type": "code",
   "execution_count": 3,
   "metadata": {},
   "outputs": [
    {
     "ename": "TypeError",
     "evalue": "'tuple' object does not support item assignment",
     "output_type": "error",
     "traceback": [
      "\u001b[1;31m---------------------------------------------------------------------------\u001b[0m",
      "\u001b[1;31mTypeError\u001b[0m                                 Traceback (most recent call last)",
      "\u001b[1;32m<ipython-input-3-e0c791548234>\u001b[0m in \u001b[0;36m<module>\u001b[1;34m\u001b[0m\n\u001b[0;32m      1\u001b[0m \u001b[0mnumber\u001b[0m \u001b[1;33m=\u001b[0m \u001b[1;33m(\u001b[0m\u001b[1;36m1\u001b[0m\u001b[1;33m,\u001b[0m\u001b[1;36m2\u001b[0m\u001b[1;33m,\u001b[0m\u001b[1;36m3\u001b[0m\u001b[1;33m)\u001b[0m\u001b[1;33m\u001b[0m\u001b[1;33m\u001b[0m\u001b[0m\n\u001b[1;32m----> 2\u001b[1;33m \u001b[0mnumbers\u001b[0m\u001b[1;33m[\u001b[0m\u001b[1;36m0\u001b[0m\u001b[1;33m]\u001b[0m \u001b[1;33m=\u001b[0m \u001b[1;36m10\u001b[0m\u001b[1;33m\u001b[0m\u001b[1;33m\u001b[0m\u001b[0m\n\u001b[0m\u001b[0;32m      3\u001b[0m \u001b[0mprint\u001b[0m\u001b[1;33m(\u001b[0m\u001b[0mnumbers\u001b[0m\u001b[1;33m[\u001b[0m\u001b[1;36m0\u001b[0m\u001b[1;33m]\u001b[0m\u001b[1;33m)\u001b[0m\u001b[1;33m\u001b[0m\u001b[1;33m\u001b[0m\u001b[0m\n\u001b[0;32m      4\u001b[0m \u001b[1;33m\u001b[0m\u001b[0m\n",
      "\u001b[1;31mTypeError\u001b[0m: 'tuple' object does not support item assignment"
     ]
    }
   ],
   "source": [
    "number = (1,2,3)\n",
    "numbers[0] = 10           #just remember\n",
    "print(numbers[0])"
   ]
  },
  {
   "cell_type": "code",
   "execution_count": 6,
   "metadata": {},
   "outputs": [
    {
     "name": "stdout",
     "output_type": "stream",
     "text": [
      "2\n",
      "3\n"
     ]
    }
   ],
   "source": [
    "#unpacking in list & tupples\n",
    "coordinates = (1,2,3)\n",
    "#x= coordinates[1]\n",
    "#y=coordinates[2]\n",
    "#z = coordinates[3]\n",
    "#instead of the above code we can write it like this\n",
    "\n",
    "x, y,z = coordinates\n",
    "print(y)\n",
    "#similarly for list\n",
    "coordinates = [1,2,3]\n",
    "x,y,z = coordinates\n",
    "print(z)\n",
    "\n"
   ]
  },
  {
   "cell_type": "code",
   "execution_count": 12,
   "metadata": {},
   "outputs": [
    {
     "name": "stdout",
     "output_type": "stream",
     "text": [
      "{'name': 'akj', 'age': 21, 'is_true': True}\n",
      "21\n",
      "None\n",
      "{'name': 'arya', 'age': 21, 'is_true': True}\n"
     ]
    }
   ],
   "source": [
    "#dictionaries - curly braces - key/value pair\n",
    "custom = {\"name\":\"akj\",\"age\":21,\"is_true\":True}\n",
    "print(custom)\n",
    "print(custom[\"age\"])\n",
    "custom[\"name\"] = \"arya\"\n",
    "print(custom.get(\"birthdate\"))\n",
    "print(custom)"
   ]
  },
  {
   "cell_type": "code",
   "execution_count": 16,
   "metadata": {},
   "outputs": [
    {
     "name": "stdout",
     "output_type": "stream",
     "text": [
      "enter the number 8891557490\n",
      "eight\n",
      "eight\n",
      "nine\n",
      "one\n",
      "five\n",
      "five\n",
      "seven\n",
      "four\n",
      "nine\n",
      "zero\n"
     ]
    }
   ],
   "source": [
    "#program example\n",
    "numbers ={\"0\":\"zero\",\"1\":\"one\",\"2\":\"two\",\"3\":\"three\",\"4\":\"four\",\"5\":\"five\",\"6\":\"six\",\"7\":\"seven\",\"8\":\"eight\",\"9\":\"nine\",}\n",
    "num = input(\"enter the number \")\n",
    "k = numbers[\"0\"]\n",
    "for i in num:\n",
    "    for j in numbers:\n",
    "        if i == j:\n",
    "            print(numbers[j])\n",
    "        else:\n",
    "            k = j\n",
    "\n",
    "\n"
   ]
  },
  {
   "cell_type": "code",
   "execution_count": 23,
   "metadata": {},
   "outputs": [
    {
     "name": "stdout",
     "output_type": "stream",
     "text": [
      "enter the text hello :)\n",
      "hello 😊 \n"
     ]
    }
   ],
   "source": [
    "#emoji converter program(split method)\n",
    "mssg = input(\"enter the text \")\n",
    "words = mssg.split(' ')\n",
    "emojis = {\":)\":\"😊\",\":(\":\"😒\"}\n",
    "k= \"\"\n",
    "for i in words:\n",
    "    k += emojis.get(i, i) + \" \"\n",
    "print(k)"
   ]
  },
  {
   "cell_type": "code",
   "execution_count": 27,
   "metadata": {},
   "outputs": [
    {
     "name": "stdout",
     "output_type": "stream",
     "text": [
      " hello\n",
      "hi \n",
      "welcome\n",
      "hye\n"
     ]
    }
   ],
   "source": [
    "#functions\n",
    "def welcome():\n",
    "    print('hi ')\n",
    "    print(\"welcome\")\n",
    "print(\" hello\")\n",
    "welcome()\n",
    "print(\"hye\")\n"
   ]
  },
  {
   "cell_type": "code",
   "execution_count": 30,
   "metadata": {},
   "outputs": [
    {
     "name": "stdout",
     "output_type": "stream",
     "text": [
      "enter the time :9:00AM\n",
      "the time is :9:00AM\n"
     ]
    }
   ],
   "source": [
    "#parameters of the functions\n",
    "def time(time):\n",
    "    print(f\"the time is :{time}\")\n",
    "t = input(\"enter the time :\")\n",
    "time(t)\n"
   ]
  },
  {
   "cell_type": "code",
   "execution_count": 32,
   "metadata": {},
   "outputs": [
    {
     "name": "stdout",
     "output_type": "stream",
     "text": [
      "9\n"
     ]
    }
   ],
   "source": [
    "#return \n",
    "def square(num):\n",
    "    return num*num\n",
    "\n",
    "print(square(3))"
   ]
  },
  {
   "cell_type": "code",
   "execution_count": 1,
   "metadata": {},
   "outputs": [
    {
     "name": "stdout",
     "output_type": "stream",
     "text": [
      "enter the text hello :(\n",
      "hello 😒 \n"
     ]
    }
   ],
   "source": [
    "#emoji converter program using functions\n",
    "def emoji(mssg):\n",
    "    words = mssg.split(' ')\n",
    "    emojis = {\":)\":\"😊\",\":(\":\"😒\"}\n",
    "    k= \"\"\n",
    "    for i in words:\n",
    "        k += emojis.get(i, i) + \" \"\n",
    "    return k\n",
    "message = input(\"enter the text \")\n",
    "print(emoji(message))"
   ]
  },
  {
   "cell_type": "code",
   "execution_count": 3,
   "metadata": {},
   "outputs": [
    {
     "name": "stdout",
     "output_type": "stream",
     "text": [
      "ENTER THE AGE aasd\n",
      "invalid value \n"
     ]
    }
   ],
   "source": [
    "#stoping the program to get crashed\n",
    "#except\n",
    "try :\n",
    "    age = int(input(\"ENTER THE AGE \"))\n",
    "    print(age)\n",
    "except ValueError:\n",
    "    print('invalid value ')\n"
   ]
  },
  {
   "cell_type": "code",
   "execution_count": 7,
   "metadata": {},
   "outputs": [
    {
     "name": "stdout",
     "output_type": "stream",
     "text": [
      "10\n",
      "draw\n"
     ]
    }
   ],
   "source": [
    "#classes\n",
    "class Point:        #first letter is capital\n",
    "    def move(self):\n",
    "        print(\"move\")\n",
    "    def draw(self):\n",
    "        print(\"draw\")\n",
    "point1 = Point()       #attributes of the class\n",
    "point1.x = 10\n",
    "point1.y = 20\n",
    "print(point1.x)\n",
    "point1.draw()"
   ]
  },
  {
   "cell_type": "code",
   "execution_count": null,
   "metadata": {},
   "outputs": [],
   "source": [
    "#constructor\n",
    "class Point:        #first letter is capital\n",
    "    def move(self):\n",
    "        print(\"move\")\n",
    "    def draw(self):\n",
    "        print(\"draw\")"
   ]
  }
 ],
 "metadata": {
  "kernelspec": {
   "display_name": "Python 3",
   "language": "python",
   "name": "python3"
  },
  "language_info": {
   "codemirror_mode": {
    "name": "ipython",
    "version": 3
   },
   "file_extension": ".py",
   "mimetype": "text/x-python",
   "name": "python",
   "nbconvert_exporter": "python",
   "pygments_lexer": "ipython3",
   "version": "3.7.1"
  }
 },
 "nbformat": 4,
 "nbformat_minor": 2
}
