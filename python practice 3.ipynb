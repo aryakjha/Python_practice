{
 "cells": [
  {
   "cell_type": "code",
   "execution_count": null,
   "metadata": {},
   "outputs": [],
   "source": [
    "a = \"\"                   #program for car game.\n",
    "started = False\n",
    "while a != \"quit\":\n",
    "    a = input().lower()\n",
    "    if a == \"start\":\n",
    "        if started:\n",
    "            print(\"car already started \")\n",
    "        else: \n",
    "            started = True\n",
    "            print(\"car started\")\n",
    "    elif a== \"stop\":\n",
    "        if not started:\n",
    "            print(\"car already stopped \")\n",
    "        else:\n",
    "            started = False\n",
    "            print(\"car stopped\")\n",
    "    elif a == \"help\":  \n",
    "        print(\"\"\"\n",
    "start - to start the car \n",
    "stop - to stop the car\n",
    "quit - to exit\"\"\")\n",
    "    elif a == \"quit\":\n",
    "        break\n",
    "    else:\n",
    "        print(\"sorry! \")"
   ]
  },
  {
   "cell_type": "code",
   "execution_count": 2,
   "metadata": {},
   "outputs": [
    {
     "name": "stdout",
     "output_type": "stream",
     "text": [
      "enter the number of elements : 5\n",
      "enter the prices of the item  1\n",
      "enter the prices of the item  2\n",
      "enter the prices of the item  3\n",
      "enter the prices of the item  4\n",
      "enter the prices of the item  5\n",
      "[1, 2, 3, 4, 5]\n"
     ]
    }
   ],
   "source": [
    "prices = []                     #program to append a list\n",
    "n = int(input(\"enter the number of elements : \"))\n",
    "for i in range(0,n):\n",
    "    element = int(input(\"enter the prices of the item  \"))\n",
    "    prices.append(element)\n",
    "print(prices)"
   ]
  },
  {
   "cell_type": "code",
   "execution_count": 3,
   "metadata": {},
   "outputs": [
    {
     "name": "stdout",
     "output_type": "stream",
     "text": [
      "enter the number of elements : 3\n",
      "enter the prices of the item  1\n",
      "enter the prices of the item  2\n",
      "enter the prices of the item  3\n",
      "[1, 2, 3]\n",
      "Total : 6\n"
     ]
    }
   ],
   "source": [
    "prices = []                     #program for shopping bill\n",
    "n = int(input(\"enter the number of elements : \"))\n",
    "for i in range(0,n):\n",
    "    element = int(input(\"enter the prices of the item  \"))\n",
    "    prices.append(element)\n",
    "print(prices)\n",
    "\n",
    "total = 0\n",
    "for j in prices:\n",
    "    total += j\n",
    "print(f\"Total : {total}\")\n"
   ]
  },
  {
   "cell_type": "code",
   "execution_count": 5,
   "metadata": {},
   "outputs": [
    {
     "name": "stdout",
     "output_type": "stream",
     "text": [
      "0 0\n",
      "0 1\n",
      "0 2\n",
      "1 0\n",
      "1 1\n",
      "1 2\n",
      "2 0\n",
      "2 1\n",
      "2 2\n"
     ]
    }
   ],
   "source": [
    "for i in range(3):\n",
    "    for j in range(3):\n",
    "        print(i,j)  "
   ]
  },
  {
   "cell_type": "code",
   "execution_count": 9,
   "metadata": {},
   "outputs": [
    {
     "name": "stdout",
     "output_type": "stream",
     "text": [
      "xxxxx\n",
      "xx\n",
      "xx\n",
      "xx\n",
      "xx\n",
      "xx\n",
      "xxxxx\n",
      "xx\n",
      "xx\n",
      "xx\n",
      "xx\n",
      "xx\n",
      "xxxxx\n",
      "xx\n",
      "xx\n",
      "xx\n",
      "xx\n",
      "xx\n",
      "xxxxx\n",
      "xx\n",
      "xx\n",
      "xx\n",
      "xx\n",
      "xx\n",
      "xxxxx\n",
      "xx\n",
      "xx\n",
      "xx\n",
      "xx\n",
      "xx\n"
     ]
    }
   ],
   "source": [
    "for i in range(5):\n",
    "    print('x'*5)\n",
    "    for j in range(5):\n",
    "        print('x'*2)"
   ]
  },
  {
   "cell_type": "code",
   "execution_count": null,
   "metadata": {},
   "outputs": [],
   "source": [
    "#program to find the largest number in the list\n",
    "lst = []\n",
    "n = int(input(\"enter the number of elements in the list \"))\n",
    "for i in range(0,n):\n",
    "    element = int(input())\n",
    "    lst.append(element)\n",
    "print(lst)\n",
    "max = lst[0]\n",
    "for j in lst:\n",
    "    if j>max:\n",
    "        max = j\n",
    "print(f'the max element is '{max})\n"
   ]
  },
  {
   "cell_type": "code",
   "execution_count": null,
   "metadata": {},
   "outputs": [],
   "source": []
  }
 ],
 "metadata": {
  "kernelspec": {
   "display_name": "tf_training",
   "language": "python",
   "name": "tf_training"
  },
  "language_info": {
   "codemirror_mode": {
    "name": "ipython",
    "version": 3
   },
   "file_extension": ".py",
   "mimetype": "text/x-python",
   "name": "python",
   "nbconvert_exporter": "python",
   "pygments_lexer": "ipython3",
   "version": "3.7.1"
  }
 },
 "nbformat": 4,
 "nbformat_minor": 2
}
