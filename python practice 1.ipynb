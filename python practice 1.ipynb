{
 "cells": [
  {
   "cell_type": "code",
   "execution_count": 1,
   "metadata": {},
   "outputs": [
    {
     "name": "stdout",
     "output_type": "stream",
     "text": [
      "akj\n"
     ]
    }
   ],
   "source": [
    "print(\"akj\")"
   ]
  },
  {
   "cell_type": "code",
   "execution_count": 2,
   "metadata": {},
   "outputs": [
    {
     "name": "stdout",
     "output_type": "stream",
     "text": [
      "**********\n"
     ]
    }
   ],
   "source": [
    "print(\"*\" * 10)"
   ]
  },
  {
   "cell_type": "code",
   "execution_count": 1,
   "metadata": {},
   "outputs": [
    {
     "name": "stdout",
     "output_type": "stream",
     "text": [
      "20\n"
     ]
    }
   ],
   "source": [
    "price = 10 \n",
    "price = 20\n",
    "abc = False     #boolean expression\n",
    "xyz = True      #boolean expression\n",
    "print(price)"
   ]
  },
  {
   "cell_type": "code",
   "execution_count": 17,
   "metadata": {},
   "outputs": [
    {
     "name": "stdout",
     "output_type": "stream",
     "text": [
      "john 20 new\n"
     ]
    }
   ],
   "source": [
    "name = \"john\"\n",
    "age = \" 20 \"\n",
    "patient = \"new\"\n",
    "print(name+age+patient)"
   ]
  },
  {
   "cell_type": "code",
   "execution_count": 14,
   "metadata": {},
   "outputs": [
    {
     "name": "stdout",
     "output_type": "stream",
     "text": [
      "what is your name? akj\n",
      "hi akj\n"
     ]
    }
   ],
   "source": [
    "name = input(\"what is your name? \")\n",
    "print('hi '+ name)"
   ]
  },
  {
   "cell_type": "code",
   "execution_count": 20,
   "metadata": {},
   "outputs": [
    {
     "name": "stdout",
     "output_type": "stream",
     "text": [
      "Birth year: 1999\n",
      "21\n",
      "<class 'int'>\n"
     ]
    }
   ],
   "source": [
    "birth_year = input(\"Birth year: \")\n",
    "age = 2020 - int(birth_year)\n",
    "print(age)\n",
    "print(type(age))"
   ]
  },
  {
   "cell_type": "code",
   "execution_count": 16,
   "metadata": {},
   "outputs": [
    {
     "name": "stdout",
     "output_type": "stream",
     "text": [
      "what is your name? akj\n",
      "what is your fav color? blue\n",
      "akj likes blue\n"
     ]
    }
   ],
   "source": [
    "name = input(\"what is your name? \")\n",
    "color = input(\"what is your fav color? \")\n",
    "print(name + \" likes \" + color)"
   ]
  },
  {
   "cell_type": "code",
   "execution_count": null,
   "metadata": {},
   "outputs": [],
   "source": [
    "learn = \" 'pythons' programmes\"\n",
    "print(learn)\n"
   ]
  },
  {
   "cell_type": "code",
   "execution_count": null,
   "metadata": {},
   "outputs": [],
   "source": [
    "weight = input(\"what is your weight in pounds ? \")\n",
    "kgs = int(weight) * 0.49\n",
    "print(kgs)"
   ]
  },
  {
   "cell_type": "code",
   "execution_count": null,
   "metadata": {},
   "outputs": [],
   "source": [
    "a = input(\" enter a sentence \")\n",
    "print[2]"
   ]
  },
  {
   "cell_type": "code",
   "execution_count": null,
   "metadata": {},
   "outputs": [],
   "source": [
    "a = \"\"\n",
    "while a != \"quit\":\n",
    "    a = input().lower()\n",
    "    if a == \"start\":\n",
    "        print(\"car started\")\n",
    "    elif a== \"stop\":\n",
    "        print(\"car stopped\")\n",
    "    elif a== \"help\":  \n",
    "        print(\"\"\"start - to start the car \n",
    "                 stop - to stop the car\n",
    "                 quit - to exit\"\"\")\n",
    "    else:\n",
    "        print(\"sorry! \")"
   ]
  }
 ],
 "metadata": {
  "kernelspec": {
   "display_name": "Python 3",
   "language": "python",
   "name": "python3"
  },
  "language_info": {
   "codemirror_mode": {
    "name": "ipython",
    "version": 3
   },
   "file_extension": ".py",
   "mimetype": "text/x-python",
   "name": "python",
   "nbconvert_exporter": "python",
   "pygments_lexer": "ipython3",
   "version": "3.7.1"
  }
 },
 "nbformat": 4,
 "nbformat_minor": 2
}
