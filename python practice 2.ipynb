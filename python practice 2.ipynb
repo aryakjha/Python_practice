{
 "cells": [
  {
   "cell_type": "code",
   "execution_count": 1,
   "metadata": {},
   "outputs": [
    {
     "name": "stdout",
     "output_type": "stream",
     "text": [
      "enter the string akjbuddy\n",
      "j\n",
      "d\n"
     ]
    }
   ],
   "source": [
    "a = input(\"enter the string \")\n",
    "print(a[2])\n",
    "print(a[-2])"
   ]
  },
  {
   "cell_type": "code",
   "execution_count": 2,
   "metadata": {},
   "outputs": [
    {
     "name": "stdout",
     "output_type": "stream",
     "text": [
      "enter the string akjbuddy\n",
      "jbuddy\n"
     ]
    }
   ],
   "source": [
    "a = input(\"enter the string \")\n",
    "print(a[2: ])"
   ]
  },
  {
   "cell_type": "code",
   "execution_count": 3,
   "metadata": {},
   "outputs": [
    {
     "name": "stdout",
     "output_type": "stream",
     "text": [
      "enter the string akjbuddy\n",
      "akjbu\n"
     ]
    }
   ],
   "source": [
    "a = input(\"enter the string \")\n",
    "print(a[ :5])"
   ]
  },
  {
   "cell_type": "code",
   "execution_count": 11,
   "metadata": {},
   "outputs": [
    {
     "name": "stdout",
     "output_type": "stream",
     "text": [
      "enter the string abc\n",
      "abc\n"
     ]
    }
   ],
   "source": [
    "a = input(\"enter the string \")\n",
    "print(a[ : ])"
   ]
  },
  {
   "cell_type": "code",
   "execution_count": 8,
   "metadata": {},
   "outputs": [
    {
     "name": "stdout",
     "output_type": "stream",
     "text": [
      "enter the string akjbuddy\n",
      "enter the string xyz\n",
      " akjbuddy xyz  abc\n",
      "jbud\n"
     ]
    }
   ],
   "source": [
    "a = input(\"enter the string \")\n",
    "b = input(\"enter the string \")\n",
    "c = f' {a} {b} abc'\n",
    "print(c)\n",
    "print(a[2:-2])"
   ]
  },
  {
   "cell_type": "code",
   "execution_count": 13,
   "metadata": {},
   "outputs": [
    {
     "name": "stdout",
     "output_type": "stream",
     "text": [
      "enter the num abc\n",
      "3\n"
     ]
    }
   ],
   "source": [
    "a = input(\"enter the num \")\n",
    "print(len(a))"
   ]
  },
  {
   "cell_type": "code",
   "execution_count": 1,
   "metadata": {},
   "outputs": [
    {
     "name": "stdout",
     "output_type": "stream",
     "text": [
      "enter the string akj\n",
      "AKJ\n"
     ]
    }
   ],
   "source": [
    "a = input(\"enter the string \")\n",
    "print(a.upper())\n"
   ]
  },
  {
   "cell_type": "code",
   "execution_count": 2,
   "metadata": {},
   "outputs": [
    {
     "name": "stdout",
     "output_type": "stream",
     "text": [
      "enter the string AKJ\n",
      "akj\n"
     ]
    }
   ],
   "source": [
    "a = input(\"enter the string \")\n",
    "print(a.lower())"
   ]
  },
  {
   "cell_type": "code",
   "execution_count": 3,
   "metadata": {},
   "outputs": [
    {
     "name": "stdout",
     "output_type": "stream",
     "text": [
      "enter the string akj\n",
      "0\n"
     ]
    }
   ],
   "source": [
    "a = input(\"enter the string \")\n",
    "print(a.find('a'))"
   ]
  },
  {
   "cell_type": "code",
   "execution_count": 4,
   "metadata": {},
   "outputs": [
    {
     "name": "stdout",
     "output_type": "stream",
     "text": [
      "enter the string akj\n",
      "-1\n"
     ]
    }
   ],
   "source": [
    "a = input(\"enter the string \")\n",
    "print(a.find('A'))"
   ]
  },
  {
   "cell_type": "code",
   "execution_count": 5,
   "metadata": {},
   "outputs": [
    {
     "name": "stdout",
     "output_type": "stream",
     "text": [
      "enter the string akj buddy\n",
      "4\n"
     ]
    }
   ],
   "source": [
    "a = input(\"enter the string \")\n",
    "print(a.find('buddy'))#case sensitive"
   ]
  },
  {
   "cell_type": "code",
   "execution_count": 6,
   "metadata": {},
   "outputs": [
    {
     "name": "stdout",
     "output_type": "stream",
     "text": [
      "enter the string akj aj\n",
      "zkj zj\n"
     ]
    }
   ],
   "source": [
    "a = input(\"enter the string \")\n",
    "print(a.replace('a','z'))#case sensitive"
   ]
  },
  {
   "cell_type": "code",
   "execution_count": 7,
   "metadata": {},
   "outputs": [
    {
     "name": "stdout",
     "output_type": "stream",
     "text": [
      "enter the string akj\n",
      "True\n"
     ]
    }
   ],
   "source": [
    "a = input(\"enter the string \")\n",
    "print('a' in a)#boolean expression"
   ]
  },
  {
   "cell_type": "code",
   "execution_count": 12,
   "metadata": {
    "scrolled": true
   },
   "outputs": [
    {
     "name": "stdout",
     "output_type": "stream",
     "text": [
      "enter the string akj buddy\n",
      "Akj Buddy\n"
     ]
    }
   ],
   "source": [
    "a = input(\"enter the string \")\n",
    "print(a.title())#header ie it converts first letter into upper case"
   ]
  },
  {
   "cell_type": "code",
   "execution_count": 14,
   "metadata": {},
   "outputs": [
    {
     "name": "stdout",
     "output_type": "stream",
     "text": [
      "30\n"
     ]
    }
   ],
   "source": [
    "print(10 * 3)\n"
   ]
  },
  {
   "cell_type": "code",
   "execution_count": 15,
   "metadata": {},
   "outputs": [
    {
     "name": "stdout",
     "output_type": "stream",
     "text": [
      "1000\n"
     ]
    }
   ],
   "source": [
    "print(10 **3)"
   ]
  },
  {
   "cell_type": "code",
   "execution_count": 18,
   "metadata": {},
   "outputs": [
    {
     "name": "stdout",
     "output_type": "stream",
     "text": [
      "6\n"
     ]
    }
   ],
   "source": [
    "x=3\n",
    "\n",
    "x +=3\n",
    "print(x)"
   ]
  },
  {
   "cell_type": "code",
   "execution_count": 19,
   "metadata": {},
   "outputs": [
    {
     "name": "stdout",
     "output_type": "stream",
     "text": [
      "16\n"
     ]
    }
   ],
   "source": [
    "x = 10 + 3 * 2  #see the order of preference\n",
    "print(x)"
   ]
  },
  {
   "cell_type": "code",
   "execution_count": 20,
   "metadata": {},
   "outputs": [
    {
     "name": "stdout",
     "output_type": "stream",
     "text": [
      "3\n"
     ]
    }
   ],
   "source": [
    "x = 2.9\n",
    "print(round(x))#rounded value\n"
   ]
  },
  {
   "cell_type": "code",
   "execution_count": 22,
   "metadata": {},
   "outputs": [
    {
     "name": "stdout",
     "output_type": "stream",
     "text": [
      "2.9\n"
     ]
    }
   ],
   "source": [
    "x = -2.9\n",
    "print(abs(x))#always gives positive number"
   ]
  },
  {
   "cell_type": "code",
   "execution_count": 23,
   "metadata": {},
   "outputs": [
    {
     "name": "stdout",
     "output_type": "stream",
     "text": [
      "3\n"
     ]
    }
   ],
   "source": [
    "import math             #math module\n",
    "print(math.ceil(2.9))\n"
   ]
  },
  {
   "cell_type": "code",
   "execution_count": 24,
   "metadata": {},
   "outputs": [
    {
     "name": "stdout",
     "output_type": "stream",
     "text": [
      "2\n"
     ]
    }
   ],
   "source": [
    "print(math.floor(2.9))"
   ]
  },
  {
   "cell_type": "code",
   "execution_count": 31,
   "metadata": {},
   "outputs": [
    {
     "name": "stdout",
     "output_type": "stream",
     "text": [
      "lovely day\n",
      "enjoy your day\n"
     ]
    }
   ],
   "source": [
    "hot = False\n",
    "cold = False\n",
    "if hot:\n",
    "    print(\"hot day\")\n",
    "elif cold:\n",
    "    print('wear warm cloths')\n",
    "else:\n",
    "    print(\"lovely day\")    \n",
    "print(\"enjoy your day\")\n",
    "    "
   ]
  },
  {
   "cell_type": "code",
   "execution_count": 37,
   "metadata": {},
   "outputs": [
    {
     "name": "stdout",
     "output_type": "stream",
     "text": [
      "the down pay is $\n",
      "100000.0\n"
     ]
    }
   ],
   "source": [
    "price = 1000000\n",
    "good =True\n",
    "if good:\n",
    "    print(\"the down pay is $\")\n",
    "    print(price*0.1)\n",
    "else :\n",
    "    print(\"the down pay is $\")\n",
    "    print(price*0.2)\n",
    "    "
   ]
  },
  {
   "cell_type": "code",
   "execution_count": 39,
   "metadata": {},
   "outputs": [
    {
     "name": "stdout",
     "output_type": "stream",
     "text": [
      "not eligible\n"
     ]
    }
   ],
   "source": [
    "high_income = True\n",
    "good_credit = False\n",
    "\n",
    "if high_income and good_credit:\n",
    "    print('eligible')\n",
    "else :\n",
    "    print(\"not eligible\")\n",
    "    "
   ]
  },
  {
   "cell_type": "code",
   "execution_count": 42,
   "metadata": {},
   "outputs": [
    {
     "name": "stdout",
     "output_type": "stream",
     "text": [
      "enter the temp 10\n",
      "its a good day \n"
     ]
    }
   ],
   "source": [
    "temp = input(\"enter the temp \")\n",
    "if int(temp)> 30:\n",
    "    print(\"its a hot day \")\n",
    "elif int(temp) <10:\n",
    "    print(\"its a cold day \")\n",
    "else :\n",
    "    print(\"its a good day \")\n",
    "    "
   ]
  },
  {
   "cell_type": "code",
   "execution_count": 44,
   "metadata": {},
   "outputs": [
    {
     "name": "stdout",
     "output_type": "stream",
     "text": [
      "enter the name akj\n",
      "it should be greater than 3 \n"
     ]
    }
   ],
   "source": [
    "name = input(\"enter the name \")\n",
    "if len(name) <=3:\n",
    "    print(\"it should be greater than 3 \")\n",
    "elif len(name) > 50:\n",
    "    print(\"it should be less than 50 \")\n",
    "else :\n",
    "    print(\"its good \")"
   ]
  },
  {
   "cell_type": "code",
   "execution_count": 45,
   "metadata": {},
   "outputs": [
    {
     "name": "stdout",
     "output_type": "stream",
     "text": [
      "0\n",
      "1\n",
      "2\n",
      "3\n",
      "4\n",
      "5\n",
      "6\n",
      "7\n",
      "8\n",
      "9\n",
      "10\n",
      "done\n"
     ]
    }
   ],
   "source": [
    "i =0\n",
    "while i <= 10:\n",
    "    print(i)\n",
    "    i = i+1\n",
    "print(\"done\")\n"
   ]
  },
  {
   "cell_type": "code",
   "execution_count": 49,
   "metadata": {},
   "outputs": [
    {
     "name": "stdout",
     "output_type": "stream",
     "text": [
      "\n",
      "*\n",
      "**\n",
      "***\n",
      "****\n",
      "*****\n",
      "******\n",
      "*******\n",
      "********\n",
      "*********\n",
      "**********\n",
      "done\n"
     ]
    }
   ],
   "source": [
    "i=0 \n",
    "while i<=10:\n",
    "    print(\"*\" * i)\n",
    "    i = i+1\n",
    "print(\"done\")"
   ]
  },
  {
   "cell_type": "code",
   "execution_count": null,
   "metadata": {},
   "outputs": [],
   "source": [
    "i=10 \n",
    "while i>0:\n",
    "    print(\"*\" * i)\n",
    "    i = i-1\n",
    "print(\"done\")"
   ]
  },
  {
   "cell_type": "code",
   "execution_count": null,
   "metadata": {},
   "outputs": [],
   "source": [
    "secnum = int(input(\"enter the sec num \"))\n",
    "i = 0\n",
    "while i < 3:\n",
    "    num = int(input(\"enter the number \"))\n",
    "    i = i+1\n",
    "    if secnum == num:\n",
    "        print(\"you won \")\n",
    "        break\n",
    "    else :\n",
    "        print(\"try again \")\n",
    "       \n",
    "print(\"game is over \")"
   ]
  },
  {
   "cell_type": "code",
   "execution_count": null,
   "metadata": {},
   "outputs": [],
   "source": [
    "a = \"\"\n",
    "while a != \"quit\":\n",
    "    a = input().lower()\n",
    "    if a == \"start\":\n",
    "        print(\"car started\")\n",
    "    elif a== \"stop\":\n",
    "        print(\"car stopped\")\n",
    "    elif a== \"help\":  \n",
    "        print(\"\"\"start - to start the car \n",
    "        stop - to stop the car\n",
    "        quit - to exit\"\"\")\n",
    "    else:\n",
    "        print(\"sorry! \")"
   ]
  },
  {
   "cell_type": "code",
   "execution_count": null,
   "metadata": {},
   "outputs": [],
   "source": []
  }
 ],
 "metadata": {
  "kernelspec": {
   "display_name": "Python 3",
   "language": "python",
   "name": "python3"
  },
  "language_info": {
   "codemirror_mode": {
    "name": "ipython",
    "version": 3
   },
   "file_extension": ".py",
   "mimetype": "text/x-python",
   "name": "python",
   "nbconvert_exporter": "python",
   "pygments_lexer": "ipython3",
   "version": "3.7.1"
  }
 },
 "nbformat": 4,
 "nbformat_minor": 2
}
